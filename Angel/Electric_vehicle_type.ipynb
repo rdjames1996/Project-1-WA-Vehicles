{
 "cells": [
  {
   "cell_type": "code",
   "execution_count": 20,
   "id": "ac3f4a57-a5f4-47d9-932f-1415f90652e5",
   "metadata": {},
   "outputs": [],
   "source": [
    "%matplotlib inline"
   ]
  },
  {
   "cell_type": "code",
   "execution_count": 21,
   "id": "9b5a1f19-8e5d-4373-8d55-af7636cdc4b7",
   "metadata": {},
   "outputs": [],
   "source": [
    "#Import Dependencies\n",
    "import pandas as pd \n",
    "import matplotlib.pyplot as plt"
   ]
  },
  {
   "cell_type": "code",
   "execution_count": 22,
   "id": "1cd1460f-98f4-481c-81ed-9c08486c1310",
   "metadata": {},
   "outputs": [
    {
     "data": {
      "text/plain": [
       "<bound method NDFrame.head of         Unnamed: 0  VIN (1-10)     County        City State  Postal Code  \\\n",
       "0                1  5YJXCBE27J     Island   Greenbank    WA        98253   \n",
       "1                8  1N4BZ0CP8H     Chelan   Wenatchee    WA        98801   \n",
       "2               10  WVWKR7AU3K  Snohomish     Edmonds    WA        98026   \n",
       "3               11  5YJ3E1EB0J     Island     Clinton    WA        98236   \n",
       "4               13  5YJ3E1EBXL  Snohomish       Brier    WA        98036   \n",
       "...            ...         ...        ...         ...   ...          ...   \n",
       "109132      109476  KM8K33AGXN    Whatcom  Bellingham    WA        98229   \n",
       "109133      109477  5YJ3E1EB2N       King   Sammamish    WA        98075   \n",
       "109134      109478  5YJYGDEE9M  Snohomish     Bothell    WA        98021   \n",
       "109135      109479  1N4AZ1CP0J       King   Shoreline    WA        98133   \n",
       "109136      109480  5YJYGDEE2M     Benton    Richland    WA        99354   \n",
       "\n",
       "        Model Year        Make          Model           Electric Vehicle Type  \\\n",
       "0             2018       TESLA        MODEL X  Battery Electric Vehicle (BEV)   \n",
       "1             2017      NISSAN           LEAF  Battery Electric Vehicle (BEV)   \n",
       "2             2019  VOLKSWAGEN         E-GOLF  Battery Electric Vehicle (BEV)   \n",
       "3             2018       TESLA        MODEL 3  Battery Electric Vehicle (BEV)   \n",
       "4             2020       TESLA        MODEL 3  Battery Electric Vehicle (BEV)   \n",
       "...            ...         ...            ...                             ...   \n",
       "109132        2022     HYUNDAI  KONA ELECTRIC  Battery Electric Vehicle (BEV)   \n",
       "109133        2022       TESLA        MODEL 3  Battery Electric Vehicle (BEV)   \n",
       "109134        2021       TESLA        MODEL Y  Battery Electric Vehicle (BEV)   \n",
       "109135        2018      NISSAN           LEAF  Battery Electric Vehicle (BEV)   \n",
       "109136        2021       TESLA        MODEL Y  Battery Electric Vehicle (BEV)   \n",
       "\n",
       "        Clean Alternative Fuel Vehicle (CAFV) Eligibility  Electric Range  \\\n",
       "0                 Clean Alternative Fuel Vehicle Eligible             238   \n",
       "1                 Clean Alternative Fuel Vehicle Eligible             107   \n",
       "2                 Clean Alternative Fuel Vehicle Eligible             125   \n",
       "3                 Clean Alternative Fuel Vehicle Eligible             215   \n",
       "4                 Clean Alternative Fuel Vehicle Eligible             322   \n",
       "...                                                   ...             ...   \n",
       "109132  Eligibility unknown as battery range has not b...               0   \n",
       "109133  Eligibility unknown as battery range has not b...               0   \n",
       "109134  Eligibility unknown as battery range has not b...               0   \n",
       "109135            Clean Alternative Fuel Vehicle Eligible             151   \n",
       "109136  Eligibility unknown as battery range has not b...               0   \n",
       "\n",
       "        Legislative District  DOL Vehicle ID          Vehicle Location  \\\n",
       "0                       10.0       326880081    (-122.575569 48.08489)   \n",
       "1                       12.0       192768747   (-120.336499 47.425146)   \n",
       "2                       32.0       477565112   (-122.333046 47.829439)   \n",
       "3                       10.0       476402678      (-122.35803 47.9796)   \n",
       "4                        1.0       103288153   (-122.281856 47.811678)   \n",
       "...                      ...             ...                       ...   \n",
       "109132                  40.0       176212200   (-122.414936 48.709388)   \n",
       "109133                  41.0       185637224   (-122.028168 47.586173)   \n",
       "109134                   1.0       153892070   (-122.212105 47.792368)   \n",
       "109135                  32.0       289064191   (-122.343983 47.739969)   \n",
       "109136                   8.0       171199227     (-119.26844 46.31484)   \n",
       "\n",
       "        2020 Census Tract  \n",
       "0            5.302997e+10  \n",
       "1            5.300796e+10  \n",
       "2            5.306105e+10  \n",
       "3            5.302997e+10  \n",
       "4            5.306105e+10  \n",
       "...                   ...  \n",
       "109132       5.307300e+10  \n",
       "109133       5.303303e+10  \n",
       "109134       5.306105e+10  \n",
       "109135       5.303302e+10  \n",
       "109136       5.300501e+10  \n",
       "\n",
       "[109137 rows x 16 columns]>"
      ]
     },
     "execution_count": 22,
     "metadata": {},
     "output_type": "execute_result"
    }
   ],
   "source": [
    "# Import clean car data\n",
    "car_data_df = pd.read_csv(\"/Users/angelf15/Desktop/Project1/Motor-Vehicles-By-Fuel-Type/Robert/clean_car_data.csv\")\n",
    "car_data_df.head"
   ]
  },
  {
   "cell_type": "code",
   "execution_count": 23,
   "id": "edb52c11-6424-40a0-a641-1aa24a6a2548",
   "metadata": {},
   "outputs": [
    {
     "data": {
      "image/png": "[encoded data removed]",
      "text/plain": [
       "<Figure size 432x288 with 1 Axes>"
      ]
     },
     "metadata": {
      "needs_background": "light"
     },
     "output_type": "display_data"
    }
   ],
   "source": [
    "# Bar chart determining most popular electric vehicle type\n",
    "x_ = car_data_df.groupby(\"Electric Vehicle Type\").count().index\n",
    "y_ = car_data_df[\"Electric Vehicle Type\"].value_counts().values\n",
    "\n",
    "colors = [\"red\", \"blue\"]\n",
    "plt.bar(x_, y_, color = colors, width= 0.50)\n",
    "plt.xticks(rotation= \"horizontal\")\n",
    "plt.title(\"Most Popular Electric Vehicle Type in the State of Washignton\", fontsize = 14)\n",
    "plt.xlabel(\"Electric Vehicle Type\", fontsize=12)\n",
    "plt.ylabel(\"Number of Electric Vehical Types\", fontsize=12)\n",
    "plt.show()\n",
    "\n"
   ]
  }
 ],
 "metadata": {
  "kernelspec": {
   "display_name": "Python 3 (ipykernel)",
   "language": "python",
   "name": "python3"
  },
  "language_info": {
   "codemirror_mode": {
    "name": "ipython",
    "version": 3
   },
   "file_extension": ".py",
   "mimetype": "text/x-python",
   "name": "python",
   "nbconvert_exporter": "python",
   "pygments_lexer": "ipython3",
   "version": "3.9.12"
  }
 },
 "nbformat": 4,
 "nbformat_minor": 5
}
