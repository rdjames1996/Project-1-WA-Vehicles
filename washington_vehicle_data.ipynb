{
 "cells": [
  {
   "cell_type": "code",
   "execution_count": 57,
   "metadata": {},
   "outputs": [],
   "source": [
    "import os\n",
    "import pandas as pd\n",
    "import numpy\n",
    "\n"
   ]
  },
  {
   "cell_type": "code",
   "execution_count": 58,
   "metadata": {},
   "outputs": [],
   "source": [
    "car_data = os.path.join(\"DataSource/Electric_Vehicle_Population_Data.csv\")"
   ]
  },
  {
   "cell_type": "code",
   "execution_count": 59,
   "metadata": {},
   "outputs": [],
   "source": [
    "car_df = pd.read_csv(car_data)"
   ]
  },
  {
   "cell_type": "code",
   "execution_count": 60,
   "metadata": {},
   "outputs": [],
   "source": [
    "WA_df = car_df.loc[(car_df[\"State\"] == \"WA\")]\n"
   ]
  },
  {
   "cell_type": "code",
   "execution_count": 61,
   "metadata": {},
   "outputs": [],
   "source": [
    "WA_2011_df = WA_df.loc[(WA_df[\"Model Year\"] > 2010)]"
   ]
  },
  {
   "cell_type": "code",
   "execution_count": 62,
   "metadata": {},
   "outputs": [],
   "source": [
    "WA_2011_df = WA_2011_df.drop(columns=['Electric Utility', \"Base MSRP\"])"
   ]
  },
  {
   "cell_type": "code",
   "execution_count": 63,
   "metadata": {},
   "outputs": [],
   "source": [
    "close_df = WA_2011_df"
   ]
  },
  {
   "cell_type": "code",
   "execution_count": 64,
   "metadata": {},
   "outputs": [],
   "source": [
    "close_df['Vehicle Location'] = close_df['Vehicle Location'].astype('str').str.replace('POINT', '')\n"
   ]
  },
  {
   "cell_type": "code",
   "execution_count": 66,
   "metadata": {},
   "outputs": [
    {
     "data": {
      "text/html": [
       "<div>\n",
       "<style scoped>\n",
       "    .dataframe tbody tr th:only-of-type {\n",
       "        vertical-align: middle;\n",
       "    }\n",
       "\n",
       "    .dataframe tbody tr th {\n",
       "        vertical-align: top;\n",
       "    }\n",
       "\n",
       "    .dataframe thead th {\n",
       "        text-align: right;\n",
       "    }\n",
       "</style>\n",
       "<table border=\"1\" class=\"dataframe\">\n",
       "  <thead>\n",
       "    <tr style=\"text-align: right;\">\n",
       "      <th></th>\n",
       "      <th>VIN (1-10)</th>\n",
       "      <th>County</th>\n",
       "      <th>City</th>\n",
       "      <th>State</th>\n",
       "      <th>Postal Code</th>\n",
       "      <th>Model Year</th>\n",
       "      <th>Make</th>\n",
       "      <th>Model</th>\n",
       "      <th>Electric Vehicle Type</th>\n",
       "      <th>Clean Alternative Fuel Vehicle (CAFV) Eligibility</th>\n",
       "      <th>Electric Range</th>\n",
       "      <th>Legislative District</th>\n",
       "      <th>DOL Vehicle ID</th>\n",
       "      <th>Vehicle Location</th>\n",
       "      <th>2020 Census Tract</th>\n",
       "    </tr>\n",
       "  </thead>\n",
       "  <tbody>\n",
       "    <tr>\n",
       "      <th>1</th>\n",
       "      <td>5YJXCBE27J</td>\n",
       "      <td>Island</td>\n",
       "      <td>Greenbank</td>\n",
       "      <td>WA</td>\n",
       "      <td>98253</td>\n",
       "      <td>2018</td>\n",
       "      <td>TESLA</td>\n",
       "      <td>MODEL X</td>\n",
       "      <td>Battery Electric Vehicle (BEV)</td>\n",
       "      <td>Clean Alternative Fuel Vehicle Eligible</td>\n",
       "      <td>238</td>\n",
       "      <td>10.0</td>\n",
       "      <td>326880081</td>\n",
       "      <td>(-122.575569 48.08489)</td>\n",
       "      <td>5.302997e+10</td>\n",
       "    </tr>\n",
       "    <tr>\n",
       "      <th>8</th>\n",
       "      <td>1N4BZ0CP8H</td>\n",
       "      <td>Chelan</td>\n",
       "      <td>Wenatchee</td>\n",
       "      <td>WA</td>\n",
       "      <td>98801</td>\n",
       "      <td>2017</td>\n",
       "      <td>NISSAN</td>\n",
       "      <td>LEAF</td>\n",
       "      <td>Battery Electric Vehicle (BEV)</td>\n",
       "      <td>Clean Alternative Fuel Vehicle Eligible</td>\n",
       "      <td>107</td>\n",
       "      <td>12.0</td>\n",
       "      <td>192768747</td>\n",
       "      <td>(-120.336499 47.425146)</td>\n",
       "      <td>5.300796e+10</td>\n",
       "    </tr>\n",
       "    <tr>\n",
       "      <th>10</th>\n",
       "      <td>WVWKR7AU3K</td>\n",
       "      <td>Snohomish</td>\n",
       "      <td>Edmonds</td>\n",
       "      <td>WA</td>\n",
       "      <td>98026</td>\n",
       "      <td>2019</td>\n",
       "      <td>VOLKSWAGEN</td>\n",
       "      <td>E-GOLF</td>\n",
       "      <td>Battery Electric Vehicle (BEV)</td>\n",
       "      <td>Clean Alternative Fuel Vehicle Eligible</td>\n",
       "      <td>125</td>\n",
       "      <td>32.0</td>\n",
       "      <td>477565112</td>\n",
       "      <td>(-122.333046 47.829439)</td>\n",
       "      <td>5.306105e+10</td>\n",
       "    </tr>\n",
       "    <tr>\n",
       "      <th>11</th>\n",
       "      <td>5YJ3E1EB0J</td>\n",
       "      <td>Island</td>\n",
       "      <td>Clinton</td>\n",
       "      <td>WA</td>\n",
       "      <td>98236</td>\n",
       "      <td>2018</td>\n",
       "      <td>TESLA</td>\n",
       "      <td>MODEL 3</td>\n",
       "      <td>Battery Electric Vehicle (BEV)</td>\n",
       "      <td>Clean Alternative Fuel Vehicle Eligible</td>\n",
       "      <td>215</td>\n",
       "      <td>10.0</td>\n",
       "      <td>476402678</td>\n",
       "      <td>(-122.35803 47.9796)</td>\n",
       "      <td>5.302997e+10</td>\n",
       "    </tr>\n",
       "    <tr>\n",
       "      <th>13</th>\n",
       "      <td>5YJ3E1EBXL</td>\n",
       "      <td>Snohomish</td>\n",
       "      <td>Brier</td>\n",
       "      <td>WA</td>\n",
       "      <td>98036</td>\n",
       "      <td>2020</td>\n",
       "      <td>TESLA</td>\n",
       "      <td>MODEL 3</td>\n",
       "      <td>Battery Electric Vehicle (BEV)</td>\n",
       "      <td>Clean Alternative Fuel Vehicle Eligible</td>\n",
       "      <td>322</td>\n",
       "      <td>1.0</td>\n",
       "      <td>103288153</td>\n",
       "      <td>(-122.281856 47.811678)</td>\n",
       "      <td>5.306105e+10</td>\n",
       "    </tr>\n",
       "  </tbody>\n",
       "</table>\n",
       "</div>"
      ],
      "text/plain": [
       "    VIN (1-10)     County       City State  Postal Code  Model Year  \\\n",
       "1   5YJXCBE27J     Island  Greenbank    WA        98253        2018   \n",
       "8   1N4BZ0CP8H     Chelan  Wenatchee    WA        98801        2017   \n",
       "10  WVWKR7AU3K  Snohomish    Edmonds    WA        98026        2019   \n",
       "11  5YJ3E1EB0J     Island    Clinton    WA        98236        2018   \n",
       "13  5YJ3E1EBXL  Snohomish      Brier    WA        98036        2020   \n",
       "\n",
       "          Make    Model           Electric Vehicle Type  \\\n",
       "1        TESLA  MODEL X  Battery Electric Vehicle (BEV)   \n",
       "8       NISSAN     LEAF  Battery Electric Vehicle (BEV)   \n",
       "10  VOLKSWAGEN   E-GOLF  Battery Electric Vehicle (BEV)   \n",
       "11       TESLA  MODEL 3  Battery Electric Vehicle (BEV)   \n",
       "13       TESLA  MODEL 3  Battery Electric Vehicle (BEV)   \n",
       "\n",
       "   Clean Alternative Fuel Vehicle (CAFV) Eligibility  Electric Range  \\\n",
       "1            Clean Alternative Fuel Vehicle Eligible             238   \n",
       "8            Clean Alternative Fuel Vehicle Eligible             107   \n",
       "10           Clean Alternative Fuel Vehicle Eligible             125   \n",
       "11           Clean Alternative Fuel Vehicle Eligible             215   \n",
       "13           Clean Alternative Fuel Vehicle Eligible             322   \n",
       "\n",
       "    Legislative District  DOL Vehicle ID          Vehicle Location  \\\n",
       "1                   10.0       326880081    (-122.575569 48.08489)   \n",
       "8                   12.0       192768747   (-120.336499 47.425146)   \n",
       "10                  32.0       477565112   (-122.333046 47.829439)   \n",
       "11                  10.0       476402678      (-122.35803 47.9796)   \n",
       "13                   1.0       103288153   (-122.281856 47.811678)   \n",
       "\n",
       "    2020 Census Tract  \n",
       "1        5.302997e+10  \n",
       "8        5.300796e+10  \n",
       "10       5.306105e+10  \n",
       "11       5.302997e+10  \n",
       "13       5.306105e+10  "
      ]
     },
     "execution_count": 66,
     "metadata": {},
     "output_type": "execute_result"
    }
   ],
   "source": [
    "close_df[\"Postal Code\"] = close_df[\"Postal Code\"].astype(int)\n",
    "close_df.head()"
   ]
  },
  {
   "cell_type": "code",
   "execution_count": 67,
   "metadata": {},
   "outputs": [],
   "source": [
    "clean_df = close_df\n",
    "clean_df.to_csv(\"clean_car_data.csv\")"
   ]
  }
 ],
 "metadata": {
  "kernelspec": {
   "display_name": "Python 3.9.12 ('base')",
   "language": "python",
   "name": "python3"
  },
  "language_info": {
   "codemirror_mode": {
    "name": "ipython",
    "version": 3
   },
   "file_extension": ".py",
   "mimetype": "text/x-python",
   "name": "python",
   "nbconvert_exporter": "python",
   "pygments_lexer": "ipython3",
   "version": "3.9.12"
  },
  "orig_nbformat": 4,
  "vscode": {
   "interpreter": {
    "hash": "4d204b8c270fb57ea909d00963daf48286aa8da11a38b9c5e2e12f4c14722664"
   }
  }
 },
 "nbformat": 4,
 "nbformat_minor": 2
}
